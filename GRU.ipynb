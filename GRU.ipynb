{
 "cells": [
  {
   "cell_type": "code",
   "execution_count": 1,
   "metadata": {
    "colab": {
     "base_uri": "https://localhost:8080/",
     "height": 35
    },
    "colab_type": "code",
    "id": "NeWVBhf1VxlH",
    "outputId": "727f2f9f-be95-478a-ba38-965259116cac"
   },
   "outputs": [
    {
     "name": "stderr",
     "output_type": "stream",
     "text": [
      "In C:\\Users\\Admin\\anaconda3\\lib\\site-packages\\matplotlib\\mpl-data\\stylelib\\_classic_test.mplstyle: \n",
      "The text.latex.preview rcparam was deprecated in Matplotlib 3.3 and will be removed two minor releases later.\n",
      "In C:\\Users\\Admin\\anaconda3\\lib\\site-packages\\matplotlib\\mpl-data\\stylelib\\_classic_test.mplstyle: \n",
      "The mathtext.fallback_to_cm rcparam was deprecated in Matplotlib 3.3 and will be removed two minor releases later.\n",
      "In C:\\Users\\Admin\\anaconda3\\lib\\site-packages\\matplotlib\\mpl-data\\stylelib\\_classic_test.mplstyle: Support for setting the 'mathtext.fallback_to_cm' rcParam is deprecated since 3.3 and will be removed two minor releases later; use 'mathtext.fallback : 'cm' instead.\n",
      "In C:\\Users\\Admin\\anaconda3\\lib\\site-packages\\matplotlib\\mpl-data\\stylelib\\_classic_test.mplstyle: \n",
      "The validate_bool_maybe_none function was deprecated in Matplotlib 3.3 and will be removed two minor releases later.\n",
      "In C:\\Users\\Admin\\anaconda3\\lib\\site-packages\\matplotlib\\mpl-data\\stylelib\\_classic_test.mplstyle: \n",
      "The savefig.jpeg_quality rcparam was deprecated in Matplotlib 3.3 and will be removed two minor releases later.\n",
      "In C:\\Users\\Admin\\anaconda3\\lib\\site-packages\\matplotlib\\mpl-data\\stylelib\\_classic_test.mplstyle: \n",
      "The keymap.all_axes rcparam was deprecated in Matplotlib 3.3 and will be removed two minor releases later.\n",
      "In C:\\Users\\Admin\\anaconda3\\lib\\site-packages\\matplotlib\\mpl-data\\stylelib\\_classic_test.mplstyle: \n",
      "The animation.avconv_path rcparam was deprecated in Matplotlib 3.3 and will be removed two minor releases later.\n",
      "In C:\\Users\\Admin\\anaconda3\\lib\\site-packages\\matplotlib\\mpl-data\\stylelib\\_classic_test.mplstyle: \n",
      "The animation.avconv_args rcparam was deprecated in Matplotlib 3.3 and will be removed two minor releases later.\n"
     ]
    }
   ],
   "source": [
    "import json\n",
    "import requests\n",
    "from keras.models import Sequential\n",
    "from keras.layers import Activation, Dense, Dropout, GRU\n",
    "from sklearn.metrics import *\n",
    "import matplotlib.pyplot as plt\n",
    "import numpy as np\n",
    "import pandas as pd\n",
    "import seaborn as sns\n",
    "from sklearn.metrics import mean_absolute_error\n",
    "%matplotlib inline"
   ]
  },
  {
   "cell_type": "code",
   "execution_count": 2,
   "metadata": {
    "_cell_guid": "79c7e3d0-c299-4dcb-8224-4455121ee9b0",
    "_uuid": "d629ff2d2480ee46fbb7e2d37f6b5fab8052498a",
    "colab": {},
    "colab_type": "code",
    "id": "6W__OM92pskF"
   },
   "outputs": [],
   "source": [
    "hist = pd.read_csv('export_dataframe1.csv')\n",
    "hist.isnull().values.any()\n",
    "hist = hist.set_index('time')\n",
    "hist.index = pd.to_datetime(hist.index, unit='s')\n",
    "target_col = 'weighted_price'"
   ]
  },
  {
   "cell_type": "code",
   "execution_count": 3,
   "metadata": {
    "colab": {
     "base_uri": "https://localhost:8080/",
     "height": 233
    },
    "colab_type": "code",
    "id": "QQ9tRh3fs6wX",
    "outputId": "5269abe3-eafb-4ba3-9901-290e63b445ea"
   },
   "outputs": [
    {
     "data": {
      "text/html": [
       "<div>\n",
       "<style scoped>\n",
       "    .dataframe tbody tr th:only-of-type {\n",
       "        vertical-align: middle;\n",
       "    }\n",
       "\n",
       "    .dataframe tbody tr th {\n",
       "        vertical-align: top;\n",
       "    }\n",
       "\n",
       "    .dataframe thead th {\n",
       "        text-align: right;\n",
       "    }\n",
       "</style>\n",
       "<table border=\"1\" class=\"dataframe\">\n",
       "  <thead>\n",
       "    <tr style=\"text-align: right;\">\n",
       "      <th></th>\n",
       "      <th>close</th>\n",
       "      <th>high</th>\n",
       "      <th>low</th>\n",
       "      <th>open</th>\n",
       "      <th>volumefrom</th>\n",
       "      <th>volumeto</th>\n",
       "      <th>weighted_price</th>\n",
       "    </tr>\n",
       "    <tr>\n",
       "      <th>time</th>\n",
       "      <th></th>\n",
       "      <th></th>\n",
       "      <th></th>\n",
       "      <th></th>\n",
       "      <th></th>\n",
       "      <th></th>\n",
       "      <th></th>\n",
       "    </tr>\n",
       "  </thead>\n",
       "  <tbody>\n",
       "    <tr>\n",
       "      <th>2016-06-12</th>\n",
       "      <td>666.55</td>\n",
       "      <td>683.85</td>\n",
       "      <td>592.79</td>\n",
       "      <td>591.60</td>\n",
       "      <td>217379.53</td>\n",
       "      <td>1.396846e+08</td>\n",
       "      <td>633.6975</td>\n",
       "    </tr>\n",
       "    <tr>\n",
       "      <th>2016-06-13</th>\n",
       "      <td>700.07</td>\n",
       "      <td>718.24</td>\n",
       "      <td>652.78</td>\n",
       "      <td>666.55</td>\n",
       "      <td>216731.32</td>\n",
       "      <td>1.494425e+08</td>\n",
       "      <td>684.4100</td>\n",
       "    </tr>\n",
       "    <tr>\n",
       "      <th>2016-06-14</th>\n",
       "      <td>685.14</td>\n",
       "      <td>702.52</td>\n",
       "      <td>654.69</td>\n",
       "      <td>700.07</td>\n",
       "      <td>135648.79</td>\n",
       "      <td>9.245835e+07</td>\n",
       "      <td>685.6050</td>\n",
       "    </tr>\n",
       "    <tr>\n",
       "      <th>2016-06-15</th>\n",
       "      <td>690.77</td>\n",
       "      <td>695.07</td>\n",
       "      <td>670.45</td>\n",
       "      <td>685.14</td>\n",
       "      <td>78620.97</td>\n",
       "      <td>5.386357e+07</td>\n",
       "      <td>685.3575</td>\n",
       "    </tr>\n",
       "    <tr>\n",
       "      <th>2016-06-16</th>\n",
       "      <td>761.21</td>\n",
       "      <td>769.73</td>\n",
       "      <td>687.43</td>\n",
       "      <td>690.77</td>\n",
       "      <td>229569.22</td>\n",
       "      <td>1.697046e+08</td>\n",
       "      <td>727.2850</td>\n",
       "    </tr>\n",
       "    <tr>\n",
       "      <th>2016-06-17</th>\n",
       "      <td>743.90</td>\n",
       "      <td>771.89</td>\n",
       "      <td>704.21</td>\n",
       "      <td>761.21</td>\n",
       "      <td>215870.36</td>\n",
       "      <td>1.603024e+08</td>\n",
       "      <td>745.3025</td>\n",
       "    </tr>\n",
       "    <tr>\n",
       "      <th>2016-06-18</th>\n",
       "      <td>753.77</td>\n",
       "      <td>776.04</td>\n",
       "      <td>727.13</td>\n",
       "      <td>743.90</td>\n",
       "      <td>120525.37</td>\n",
       "      <td>9.105699e+07</td>\n",
       "      <td>750.2100</td>\n",
       "    </tr>\n",
       "    <tr>\n",
       "      <th>2016-06-19</th>\n",
       "      <td>761.04</td>\n",
       "      <td>765.10</td>\n",
       "      <td>740.38</td>\n",
       "      <td>753.77</td>\n",
       "      <td>60445.37</td>\n",
       "      <td>4.580598e+07</td>\n",
       "      <td>755.0725</td>\n",
       "    </tr>\n",
       "    <tr>\n",
       "      <th>2016-06-20</th>\n",
       "      <td>733.97</td>\n",
       "      <td>764.60</td>\n",
       "      <td>717.41</td>\n",
       "      <td>761.04</td>\n",
       "      <td>112290.09</td>\n",
       "      <td>8.363762e+07</td>\n",
       "      <td>744.2550</td>\n",
       "    </tr>\n",
       "    <tr>\n",
       "      <th>2016-06-21</th>\n",
       "      <td>667.38</td>\n",
       "      <td>732.23</td>\n",
       "      <td>626.05</td>\n",
       "      <td>733.97</td>\n",
       "      <td>248083.39</td>\n",
       "      <td>1.668284e+08</td>\n",
       "      <td>689.9075</td>\n",
       "    </tr>\n",
       "  </tbody>\n",
       "</table>\n",
       "</div>"
      ],
      "text/plain": [
       "             close    high     low    open  volumefrom      volumeto  \\\n",
       "time                                                                   \n",
       "2016-06-12  666.55  683.85  592.79  591.60   217379.53  1.396846e+08   \n",
       "2016-06-13  700.07  718.24  652.78  666.55   216731.32  1.494425e+08   \n",
       "2016-06-14  685.14  702.52  654.69  700.07   135648.79  9.245835e+07   \n",
       "2016-06-15  690.77  695.07  670.45  685.14    78620.97  5.386357e+07   \n",
       "2016-06-16  761.21  769.73  687.43  690.77   229569.22  1.697046e+08   \n",
       "2016-06-17  743.90  771.89  704.21  761.21   215870.36  1.603024e+08   \n",
       "2016-06-18  753.77  776.04  727.13  743.90   120525.37  9.105699e+07   \n",
       "2016-06-19  761.04  765.10  740.38  753.77    60445.37  4.580598e+07   \n",
       "2016-06-20  733.97  764.60  717.41  761.04   112290.09  8.363762e+07   \n",
       "2016-06-21  667.38  732.23  626.05  733.97   248083.39  1.668284e+08   \n",
       "\n",
       "            weighted_price  \n",
       "time                        \n",
       "2016-06-12        633.6975  \n",
       "2016-06-13        684.4100  \n",
       "2016-06-14        685.6050  \n",
       "2016-06-15        685.3575  \n",
       "2016-06-16        727.2850  \n",
       "2016-06-17        745.3025  \n",
       "2016-06-18        750.2100  \n",
       "2016-06-19        755.0725  \n",
       "2016-06-20        744.2550  \n",
       "2016-06-21        689.9075  "
      ]
     },
     "execution_count": 3,
     "metadata": {},
     "output_type": "execute_result"
    }
   ],
   "source": [
    "hist.head(10)"
   ]
  },
  {
   "cell_type": "code",
   "execution_count": 5,
   "metadata": {
    "colab": {},
    "colab_type": "code",
    "id": "0Ykh8CHfpskJ"
   },
   "outputs": [],
   "source": [
    "def train_test_split(df, test_size=0.1):\n",
    "    split_row = len(df) - int(test_size * len(df))\n",
    "    train_data = df.iloc[:split_row]\n",
    "    test_data = df.iloc[split_row:]\n",
    "    return train_data, test_data"
   ]
  },
  {
   "cell_type": "code",
   "execution_count": 6,
   "metadata": {
    "colab": {},
    "colab_type": "code",
    "id": "PWKGJlxIpskM"
   },
   "outputs": [],
   "source": [
    "train, test = train_test_split(hist, test_size=0.2)"
   ]
  },
  {
   "cell_type": "code",
   "execution_count": 7,
   "metadata": {
    "colab": {},
    "colab_type": "code",
    "id": "jqfrJbQhpskP"
   },
   "outputs": [],
   "source": [
    "def line_plot(line1, line2, label1=None, label2=None, title='', lw=2):\n",
    "    fig, ax = plt.subplots(1, figsize=(13, 7))\n",
    "    ax.plot(line1, label=label1, linewidth=lw)\n",
    "    ax.plot(line2, label=label2, linewidth=lw)\n",
    "    ax.set_ylabel('price [USD]', fontsize=14)\n",
    "    ax.set_title(title, fontsize=16)\n",
    "    ax.legend(loc='best', fontsize=16);"
   ]
  },
  {
   "cell_type": "code",
   "execution_count": 8,
   "metadata": {
    "colab": {
     "base_uri": "https://localhost:8080/",
     "height": 552
    },
    "colab_type": "code",
    "id": "9F_YTCCxpskS",
    "outputId": "c6a3ff55-40fa-46dd-ae42-0a67b5b5e9f8"
   },
   "outputs": [
    {
     "data": {
      "image/png": "[encoded data removed]",
      "text/plain": [
       "<Figure size 936x504 with 1 Axes>"
      ]
     },
     "metadata": {
      "needs_background": "light"
     },
     "output_type": "display_data"
    }
   ],
   "source": [
    "line_plot(train[target_col], test[target_col], 'training', 'test', title='')"
   ]
  },
  {
   "cell_type": "code",
   "execution_count": 9,
   "metadata": {
    "colab": {},
    "colab_type": "code",
    "id": "iy-je3_bpskb"
   },
   "outputs": [],
   "source": [
    "def normalise_zero_base(df):\n",
    "    return df / df.iloc[0] - 1\n",
    "\n",
    "def normalise_min_max(df):\n",
    "    return (df - df.min()) / (data.max() - df.min())"
   ]
  },
  {
   "cell_type": "code",
   "execution_count": 10,
   "metadata": {
    "colab": {},
    "colab_type": "code",
    "id": "zteL5amIpskh"
   },
   "outputs": [],
   "source": [
    "def extract_window_data(df, window_len=5, zero_base=True):\n",
    "    window_data = []\n",
    "    for idx in range(len(df) - window_len):\n",
    "        tmp = df[idx: (idx + window_len)].copy()\n",
    "        if zero_base:\n",
    "            tmp = normalise_zero_base(tmp)\n",
    "        window_data.append(tmp.values)\n",
    "    return np.array(window_data)"
   ]
  },
  {
   "cell_type": "code",
   "execution_count": 26,
   "metadata": {
    "colab": {},
    "colab_type": "code",
    "id": "aTBbhnezpskk"
   },
   "outputs": [],
   "source": [
    "def prepare_data(df, target_col, window_len=5, zero_base=True, test_size=0.2):\n",
    "    train_data, test_data = train_test_split(df, test_size=test_size)\n",
    "    X_train = extract_window_data(train_data, window_len, zero_base)\n",
    "    X_test = extract_window_data(test_data, window_len, zero_base)\n",
    "    y_train = train_data[target_col][window_len:].values\n",
    "    y_test = test_data[target_col][window_len:].values\n",
    "    if zero_base:\n",
    "        y_train = y_train / train_data[target_col][:-window_len].values - 1\n",
    "        y_test = y_test / test_data[target_col][:-window_len].values - 1\n",
    "\n",
    "    return train_data, test_data, X_train, X_test, y_train, y_test"
   ]
  },
  {
   "cell_type": "code",
   "execution_count": 27,
   "metadata": {
    "colab": {},
    "colab_type": "code",
    "id": "VjWtS2qJpskn"
   },
   "outputs": [],
   "source": [
    "def build_lstm_model(input_data, output_size, neurons=100, activ_func='linear',\n",
    "                     dropout=0.2, loss='mse', optimizer='adam'):\n",
    "    model = Sequential()\n",
    "    model.add(GRU(neurons, input_shape=(input_data.shape[1], input_data.shape[2])))\n",
    "    model.add(Dropout(dropout))\n",
    "    model.add(Dense(units=output_size))\n",
    "    model.add(Activation(activ_func))\n",
    "\n",
    "    model.compile(loss=loss, optimizer=optimizer)\n",
    "    return model"
   ]
  },
  {
   "cell_type": "code",
   "execution_count": 28,
   "metadata": {
    "colab": {},
    "colab_type": "code",
    "id": "aADcao3Qpskq"
   },
   "outputs": [],
   "source": [
    "np.random.seed(42)\n",
    "window_len = 5\n",
    "test_size = 0.2\n",
    "zero_base = True\n",
    "neuron = 100\n",
    "epochs = 100\n",
    "batch_size = 32\n",
    "loss = 'mse'\n",
    "dropout = 0.2\n",
    "optimizer = 'adam'"
   ]
  },
  {
   "cell_type": "code",
   "execution_count": 29,
   "metadata": {
    "colab": {},
    "colab_type": "code",
    "id": "rAw5VBtwpskt"
   },
   "outputs": [],
   "source": [
    "train, test, X_train, X_test, y_train, y_test = prepare_data(hist, target_col, window_len=window_len, zero_base=zero_base, test_size=test_size)"
   ]
  },
  {
   "cell_type": "code",
   "execution_count": 30,
   "metadata": {
    "colab": {
     "base_uri": "https://localhost:8080/",
     "height": 1000
    },
    "colab_type": "code",
    "id": "E5T9OAwQpskw",
    "outputId": "c46fb066-d0af-42e1-876c-acef59787c33"
   },
   "outputs": [
    {
     "name": "stdout",
     "output_type": "stream",
     "text": [
      "Epoch 1/100\n",
      "38/38 [==============================] - 0s 3ms/step - loss: 0.0128\n",
      "Epoch 2/100\n",
      "38/38 [==============================] - 0s 2ms/step - loss: 0.0036\n",
      "Epoch 3/100\n",
      "38/38 [==============================] - 0s 2ms/step - loss: 0.0031\n",
      "Epoch 4/100\n",
      "38/38 [==============================] - 0s 2ms/step - loss: 0.0031\n",
      "Epoch 5/100\n",
      "38/38 [==============================] - 0s 2ms/step - loss: 0.0023\n",
      "Epoch 6/100\n",
      "38/38 [==============================] - 0s 2ms/step - loss: 0.0023\n",
      "Epoch 7/100\n",
      "38/38 [==============================] - 0s 2ms/step - loss: 0.0021\n",
      "Epoch 8/100\n",
      "38/38 [==============================] - 0s 2ms/step - loss: 0.0021\n",
      "Epoch 9/100\n",
      "38/38 [==============================] - 0s 2ms/step - loss: 0.0016\n",
      "Epoch 10/100\n",
      "38/38 [==============================] - 0s 2ms/step - loss: 0.0014\n",
      "Epoch 11/100\n",
      "38/38 [==============================] - 0s 2ms/step - loss: 0.0013\n",
      "Epoch 12/100\n",
      "38/38 [==============================] - 0s 2ms/step - loss: 0.0013\n",
      "Epoch 13/100\n",
      "38/38 [==============================] - 0s 2ms/step - loss: 0.0012\n",
      "Epoch 14/100\n",
      "38/38 [==============================] - 0s 2ms/step - loss: 0.0014\n",
      "Epoch 15/100\n",
      "38/38 [==============================] - 0s 2ms/step - loss: 0.0011\n",
      "Epoch 16/100\n",
      "38/38 [==============================] - 0s 2ms/step - loss: 9.0942e-04\n",
      "Epoch 17/100\n",
      "38/38 [==============================] - 0s 2ms/step - loss: 9.0956e-04\n",
      "Epoch 18/100\n",
      "38/38 [==============================] - 0s 2ms/step - loss: 9.8954e-04\n",
      "Epoch 19/100\n",
      "38/38 [==============================] - 0s 2ms/step - loss: 9.7136e-04\n",
      "Epoch 20/100\n",
      "38/38 [==============================] - 0s 2ms/step - loss: 8.8478e-04\n",
      "Epoch 21/100\n",
      "38/38 [==============================] - 0s 2ms/step - loss: 8.5247e-04\n",
      "Epoch 22/100\n",
      "38/38 [==============================] - 0s 2ms/step - loss: 9.1091e-04\n",
      "Epoch 23/100\n",
      "38/38 [==============================] - 0s 2ms/step - loss: 9.0700e-04\n",
      "Epoch 24/100\n",
      "38/38 [==============================] - 0s 2ms/step - loss: 7.4570e-04\n",
      "Epoch 25/100\n",
      "38/38 [==============================] - 0s 2ms/step - loss: 8.0993e-04\n",
      "Epoch 26/100\n",
      "38/38 [==============================] - 0s 2ms/step - loss: 7.9500e-04\n",
      "Epoch 27/100\n",
      "38/38 [==============================] - 0s 2ms/step - loss: 7.1825e-04\n",
      "Epoch 28/100\n",
      "38/38 [==============================] - 0s 2ms/step - loss: 7.5521e-04\n",
      "Epoch 29/100\n",
      "38/38 [==============================] - 0s 2ms/step - loss: 8.0435e-04\n",
      "Epoch 30/100\n",
      "38/38 [==============================] - 0s 2ms/step - loss: 7.5475e-04\n",
      "Epoch 31/100\n",
      "38/38 [==============================] - 0s 2ms/step - loss: 7.0831e-04\n",
      "Epoch 32/100\n",
      "38/38 [==============================] - 0s 2ms/step - loss: 6.9801e-04\n",
      "Epoch 33/100\n",
      "38/38 [==============================] - 0s 2ms/step - loss: 7.4195e-04\n",
      "Epoch 34/100\n",
      "38/38 [==============================] - 0s 2ms/step - loss: 7.1125e-04\n",
      "Epoch 35/100\n",
      "38/38 [==============================] - 0s 2ms/step - loss: 7.1184e-04\n",
      "Epoch 36/100\n",
      "38/38 [==============================] - 0s 2ms/step - loss: 7.2714e-04\n",
      "Epoch 37/100\n",
      "38/38 [==============================] - 0s 2ms/step - loss: 6.7107e-04\n",
      "Epoch 38/100\n",
      "38/38 [==============================] - 0s 2ms/step - loss: 6.8262e-04\n",
      "Epoch 39/100\n",
      "38/38 [==============================] - 0s 2ms/step - loss: 7.1166e-04\n",
      "Epoch 40/100\n",
      "38/38 [==============================] - 0s 2ms/step - loss: 6.9866e-04\n",
      "Epoch 41/100\n",
      "38/38 [==============================] - 0s 2ms/step - loss: 7.1481e-04\n",
      "Epoch 42/100\n",
      "38/38 [==============================] - 0s 2ms/step - loss: 7.2090e-04\n",
      "Epoch 43/100\n",
      "38/38 [==============================] - 0s 2ms/step - loss: 6.9009e-04\n",
      "Epoch 44/100\n",
      "38/38 [==============================] - 0s 2ms/step - loss: 6.9442e-04\n",
      "Epoch 45/100\n",
      "38/38 [==============================] - 0s 2ms/step - loss: 6.3464e-04\n",
      "Epoch 46/100\n",
      "38/38 [==============================] - 0s 2ms/step - loss: 6.7312e-04\n",
      "Epoch 47/100\n",
      "38/38 [==============================] - 0s 2ms/step - loss: 6.7440e-04\n",
      "Epoch 48/100\n",
      "38/38 [==============================] - 0s 2ms/step - loss: 6.6811e-04\n",
      "Epoch 49/100\n",
      "38/38 [==============================] - 0s 2ms/step - loss: 6.6036e-04\n",
      "Epoch 50/100\n",
      "38/38 [==============================] - 0s 2ms/step - loss: 6.9804e-04\n",
      "Epoch 51/100\n",
      "38/38 [==============================] - 0s 2ms/step - loss: 7.5578e-04\n",
      "Epoch 52/100\n",
      "38/38 [==============================] - 0s 2ms/step - loss: 6.2717e-04\n",
      "Epoch 53/100\n",
      "38/38 [==============================] - 0s 2ms/step - loss: 6.9331e-04\n",
      "Epoch 54/100\n",
      "38/38 [==============================] - 0s 2ms/step - loss: 6.4912e-04\n",
      "Epoch 55/100\n",
      "38/38 [==============================] - 0s 2ms/step - loss: 6.9259e-04\n",
      "Epoch 56/100\n",
      "38/38 [==============================] - 0s 2ms/step - loss: 6.1853e-04\n",
      "Epoch 57/100\n",
      "38/38 [==============================] - 0s 2ms/step - loss: 6.7708e-04\n",
      "Epoch 58/100\n",
      "38/38 [==============================] - 0s 2ms/step - loss: 6.7524e-04\n",
      "Epoch 59/100\n",
      "38/38 [==============================] - 0s 2ms/step - loss: 6.5753e-04\n",
      "Epoch 60/100\n",
      "38/38 [==============================] - 0s 2ms/step - loss: 6.5306e-04\n",
      "Epoch 61/100\n",
      "38/38 [==============================] - 0s 2ms/step - loss: 6.4422e-04\n",
      "Epoch 62/100\n",
      "38/38 [==============================] - 0s 2ms/step - loss: 6.5093e-04\n",
      "Epoch 63/100\n",
      "38/38 [==============================] - 0s 2ms/step - loss: 6.6746e-04\n",
      "Epoch 64/100\n",
      "38/38 [==============================] - 0s 2ms/step - loss: 6.3566e-04\n",
      "Epoch 65/100\n",
      "38/38 [==============================] - 0s 2ms/step - loss: 6.5125e-04\n",
      "Epoch 66/100\n",
      "38/38 [==============================] - 0s 2ms/step - loss: 6.5097e-04\n",
      "Epoch 67/100\n",
      "38/38 [==============================] - 0s 2ms/step - loss: 6.1820e-04\n",
      "Epoch 68/100\n",
      "38/38 [==============================] - 0s 2ms/step - loss: 6.5997e-04\n",
      "Epoch 69/100\n",
      "38/38 [==============================] - 0s 2ms/step - loss: 6.3279e-04\n",
      "Epoch 70/100\n",
      "38/38 [==============================] - 0s 2ms/step - loss: 6.3859e-04\n",
      "Epoch 71/100\n",
      "38/38 [==============================] - 0s 2ms/step - loss: 6.4634e-04\n",
      "Epoch 72/100\n",
      "38/38 [==============================] - 0s 2ms/step - loss: 6.3387e-04\n",
      "Epoch 73/100\n",
      "38/38 [==============================] - 0s 2ms/step - loss: 6.2623e-04\n",
      "Epoch 74/100\n",
      "38/38 [==============================] - 0s 2ms/step - loss: 6.4207e-04\n",
      "Epoch 75/100\n",
      "38/38 [==============================] - 0s 2ms/step - loss: 6.1962e-04\n",
      "Epoch 76/100\n",
      "38/38 [==============================] - 0s 2ms/step - loss: 6.2313e-04\n",
      "Epoch 77/100\n",
      "38/38 [==============================] - 0s 2ms/step - loss: 6.7421e-04\n",
      "Epoch 78/100\n",
      "38/38 [==============================] - 0s 2ms/step - loss: 6.4160e-04\n",
      "Epoch 79/100\n",
      "38/38 [==============================] - 0s 2ms/step - loss: 6.2330e-04\n",
      "Epoch 80/100\n",
      "38/38 [==============================] - 0s 2ms/step - loss: 6.4023e-04\n",
      "Epoch 81/100\n",
      "38/38 [==============================] - 0s 2ms/step - loss: 6.6034e-04\n",
      "Epoch 82/100\n",
      "38/38 [==============================] - 0s 2ms/step - loss: 6.1518e-04\n",
      "Epoch 83/100\n",
      "38/38 [==============================] - 0s 2ms/step - loss: 6.3768e-04\n",
      "Epoch 84/100\n",
      "38/38 [==============================] - 0s 2ms/step - loss: 6.3661e-04\n",
      "Epoch 85/100\n",
      "38/38 [==============================] - 0s 2ms/step - loss: 6.1441e-04\n",
      "Epoch 86/100\n",
      "38/38 [==============================] - 0s 2ms/step - loss: 6.3497e-04\n",
      "Epoch 87/100\n",
      "38/38 [==============================] - 0s 2ms/step - loss: 6.1533e-04\n",
      "Epoch 88/100\n",
      "38/38 [==============================] - 0s 2ms/step - loss: 6.2020e-04\n",
      "Epoch 89/100\n",
      "38/38 [==============================] - 0s 2ms/step - loss: 6.2202e-04\n",
      "Epoch 90/100\n",
      "38/38 [==============================] - 0s 2ms/step - loss: 6.2909e-04\n",
      "Epoch 91/100\n",
      "38/38 [==============================] - 0s 2ms/step - loss: 6.1720e-04\n",
      "Epoch 92/100\n",
      "38/38 [==============================] - 0s 2ms/step - loss: 6.4656e-04\n",
      "Epoch 93/100\n",
      "38/38 [==============================] - 0s 2ms/step - loss: 6.4776e-04\n",
      "Epoch 94/100\n",
      "38/38 [==============================] - 0s 2ms/step - loss: 6.1463e-04\n",
      "Epoch 95/100\n",
      "38/38 [==============================] - 0s 2ms/step - loss: 6.2662e-04\n",
      "Epoch 96/100\n",
      "38/38 [==============================] - 0s 2ms/step - loss: 6.7679e-04\n",
      "Epoch 97/100\n",
      "38/38 [==============================] - 0s 2ms/step - loss: 6.4659e-04\n",
      "Epoch 98/100\n",
      "38/38 [==============================] - 0s 2ms/step - loss: 6.0768e-04\n",
      "Epoch 99/100\n",
      "38/38 [==============================] - 0s 2ms/step - loss: 6.3677e-04\n",
      "Epoch 100/100\n",
      "38/38 [==============================] - 0s 2ms/step - loss: 6.0773e-04\n"
     ]
    }
   ],
   "source": [
    "model = build_lstm_model(\n",
    "    X_train, output_size=1, neurons=neuron, dropout=dropout, loss=loss,\n",
    "    optimizer=optimizer)\n",
    "history = model.fit(\n",
    "    X_train, y_train, epochs=epochs, batch_size=batch_size, verbose=1, shuffle=True)"
   ]
  },
  {
   "cell_type": "code",
   "execution_count": 31,
   "metadata": {
    "colab": {
     "base_uri": "https://localhost:8080/",
     "height": 35
    },
    "colab_type": "code",
    "id": "mS6SPIGNpskz",
    "outputId": "28bebbc7-9e96-4300-f237-70dab2658260"
   },
   "outputs": [
    {
     "name": "stdout",
     "output_type": "stream",
     "text": [
      "MAE: 0.015220\n",
      "R2: 0.915149\n",
      "Test MSE: 0.000518\n"
     ]
    }
   ],
   "source": [
    "targets = test[target_col][window_len:]\n",
    "preds = model.predict(X_test).squeeze()\n",
    "mae = mean_absolute_error(y_test, preds)\n",
    "error = mean_squared_error(y_test, preds)\n",
    "r2 = r2_score(y_test, preds)\n",
    "print('MAE: %.6f' % mae)\n",
    "print('R2: %.6f' % r2)\n",
    "print('Test MSE: %.6f' % error)"
   ]
  },
  {
   "cell_type": "code",
   "execution_count": 32,
   "metadata": {
    "colab": {
     "base_uri": "https://localhost:8080/",
     "height": 428
    },
    "colab_type": "code",
    "id": "4jU0wERepsk2",
    "outputId": "799dc055-01f8-4128-b497-c22a4bbc6c09"
   },
   "outputs": [
    {
     "data": {
      "image/png": "[encoded data removed]",
      "text/plain": [
       "<Figure size 936x504 with 1 Axes>"
      ]
     },
     "metadata": {
      "needs_background": "light"
     },
     "output_type": "display_data"
    }
   ],
   "source": [
    "preds = test[target_col].values[:-window_len] * (preds + 1)\n",
    "preds = pd.Series(index=targets.index, data=preds)\n",
    "line_plot(targets, preds, 'actual', 'prediction', lw=3)"
   ]
  }
 ],
 "metadata": {
  "colab": {
   "name": "price_prediction.ipynb",
   "provenance": []
  },
  "kernelspec": {
   "display_name": "Python 3",
   "language": "python",
   "name": "python3"
  },
  "language_info": {
   "codemirror_mode": {
    "name": "ipython",
    "version": 3
   },
   "file_extension": ".py",
   "mimetype": "text/x-python",
   "name": "python",
   "nbconvert_exporter": "python",
   "pygments_lexer": "ipython3",
   "version": "3.7.6"
  }
 },
 "nbformat": 4,
 "nbformat_minor": 4
}
