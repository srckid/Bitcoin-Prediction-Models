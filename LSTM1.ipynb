{
 "cells": [
  {
   "cell_type": "code",
   "execution_count": 1,
   "metadata": {
    "colab": {
     "base_uri": "https://localhost:8080/",
     "height": 35
    },
    "colab_type": "code",
    "id": "NeWVBhf1VxlH",
    "outputId": "727f2f9f-be95-478a-ba38-965259116cac"
   },
   "outputs": [
    {
     "name": "stderr",
     "output_type": "stream",
     "text": [
      "In C:\\Users\\Admin\\anaconda3\\lib\\site-packages\\matplotlib\\mpl-data\\stylelib\\_classic_test.mplstyle: \n",
      "The text.latex.preview rcparam was deprecated in Matplotlib 3.3 and will be removed two minor releases later.\n",
      "In C:\\Users\\Admin\\anaconda3\\lib\\site-packages\\matplotlib\\mpl-data\\stylelib\\_classic_test.mplstyle: \n",
      "The mathtext.fallback_to_cm rcparam was deprecated in Matplotlib 3.3 and will be removed two minor releases later.\n",
      "In C:\\Users\\Admin\\anaconda3\\lib\\site-packages\\matplotlib\\mpl-data\\stylelib\\_classic_test.mplstyle: Support for setting the 'mathtext.fallback_to_cm' rcParam is deprecated since 3.3 and will be removed two minor releases later; use 'mathtext.fallback : 'cm' instead.\n",
      "In C:\\Users\\Admin\\anaconda3\\lib\\site-packages\\matplotlib\\mpl-data\\stylelib\\_classic_test.mplstyle: \n",
      "The validate_bool_maybe_none function was deprecated in Matplotlib 3.3 and will be removed two minor releases later.\n",
      "In C:\\Users\\Admin\\anaconda3\\lib\\site-packages\\matplotlib\\mpl-data\\stylelib\\_classic_test.mplstyle: \n",
      "The savefig.jpeg_quality rcparam was deprecated in Matplotlib 3.3 and will be removed two minor releases later.\n",
      "In C:\\Users\\Admin\\anaconda3\\lib\\site-packages\\matplotlib\\mpl-data\\stylelib\\_classic_test.mplstyle: \n",
      "The keymap.all_axes rcparam was deprecated in Matplotlib 3.3 and will be removed two minor releases later.\n",
      "In C:\\Users\\Admin\\anaconda3\\lib\\site-packages\\matplotlib\\mpl-data\\stylelib\\_classic_test.mplstyle: \n",
      "The animation.avconv_path rcparam was deprecated in Matplotlib 3.3 and will be removed two minor releases later.\n",
      "In C:\\Users\\Admin\\anaconda3\\lib\\site-packages\\matplotlib\\mpl-data\\stylelib\\_classic_test.mplstyle: \n",
      "The animation.avconv_args rcparam was deprecated in Matplotlib 3.3 and will be removed two minor releases later.\n"
     ]
    }
   ],
   "source": [
    "from keras.models import Sequential\n",
    "from keras.layers import Activation, Dense, Dropout, LSTM\n",
    "from sklearn.metrics import *\n",
    "import matplotlib.pyplot as plt\n",
    "import numpy as np\n",
    "import pandas as pd\n",
    "import seaborn as sns\n",
    "from sklearn.metrics import mean_absolute_error\n",
    "%matplotlib inline"
   ]
  },
  {
   "cell_type": "code",
   "execution_count": 2,
   "metadata": {
    "_cell_guid": "79c7e3d0-c299-4dcb-8224-4455121ee9b0",
    "_uuid": "d629ff2d2480ee46fbb7e2d37f6b5fab8052498a",
    "colab": {},
    "colab_type": "code",
    "id": "6W__OM92pskF"
   },
   "outputs": [
    {
     "data": {
      "text/plain": [
       "False"
      ]
     },
     "execution_count": 2,
     "metadata": {},
     "output_type": "execute_result"
    }
   ],
   "source": [
    "hist = pd.read_csv('export_dataframe1.csv')\n",
    "hist.isnull().values.any()"
   ]
  },
  {
   "cell_type": "code",
   "execution_count": 3,
   "metadata": {
    "_cell_guid": "79c7e3d0-c299-4dcb-8224-4455121ee9b0",
    "_uuid": "d629ff2d2480ee46fbb7e2d37f6b5fab8052498a",
    "colab": {},
    "colab_type": "code",
    "id": "6W__OM92pskF"
   },
   "outputs": [],
   "source": [
    "hist = hist.set_index('time')\n",
    "hist.index = pd.to_datetime(hist.index, unit='s')\n",
    "target_col = 'weighted_price'"
   ]
  },
  {
   "cell_type": "code",
   "execution_count": 6,
   "metadata": {
    "colab": {
     "base_uri": "https://localhost:8080/",
     "height": 233
    },
    "colab_type": "code",
    "id": "QQ9tRh3fs6wX",
    "outputId": "5269abe3-eafb-4ba3-9901-290e63b445ea"
   },
   "outputs": [
    {
     "data": {
      "text/html": [
       "<div>\n",
       "<style scoped>\n",
       "    .dataframe tbody tr th:only-of-type {\n",
       "        vertical-align: middle;\n",
       "    }\n",
       "\n",
       "    .dataframe tbody tr th {\n",
       "        vertical-align: top;\n",
       "    }\n",
       "\n",
       "    .dataframe thead th {\n",
       "        text-align: right;\n",
       "    }\n",
       "</style>\n",
       "<table border=\"1\" class=\"dataframe\">\n",
       "  <thead>\n",
       "    <tr style=\"text-align: right;\">\n",
       "      <th></th>\n",
       "      <th>close</th>\n",
       "      <th>high</th>\n",
       "      <th>low</th>\n",
       "      <th>open</th>\n",
       "      <th>volumefrom</th>\n",
       "      <th>volumeto</th>\n",
       "      <th>weighted_price</th>\n",
       "    </tr>\n",
       "    <tr>\n",
       "      <th>time</th>\n",
       "      <th></th>\n",
       "      <th></th>\n",
       "      <th></th>\n",
       "      <th></th>\n",
       "      <th></th>\n",
       "      <th></th>\n",
       "      <th></th>\n",
       "    </tr>\n",
       "  </thead>\n",
       "  <tbody>\n",
       "    <tr>\n",
       "      <th>2020-07-12</th>\n",
       "      <td>9300.95</td>\n",
       "      <td>9339.99</td>\n",
       "      <td>9169.13</td>\n",
       "      <td>9237.13</td>\n",
       "      <td>16385.50</td>\n",
       "      <td>1.516494e+08</td>\n",
       "      <td>9261.8000</td>\n",
       "    </tr>\n",
       "    <tr>\n",
       "      <th>2020-07-13</th>\n",
       "      <td>9237.89</td>\n",
       "      <td>9336.42</td>\n",
       "      <td>9201.18</td>\n",
       "      <td>9300.95</td>\n",
       "      <td>25872.33</td>\n",
       "      <td>2.400818e+08</td>\n",
       "      <td>9269.1100</td>\n",
       "    </tr>\n",
       "    <tr>\n",
       "      <th>2020-07-14</th>\n",
       "      <td>9256.07</td>\n",
       "      <td>9279.57</td>\n",
       "      <td>9109.70</td>\n",
       "      <td>9237.89</td>\n",
       "      <td>25865.27</td>\n",
       "      <td>2.383085e+08</td>\n",
       "      <td>9220.8075</td>\n",
       "    </tr>\n",
       "    <tr>\n",
       "      <th>2020-07-15</th>\n",
       "      <td>9193.22</td>\n",
       "      <td>9272.57</td>\n",
       "      <td>9160.89</td>\n",
       "      <td>9256.07</td>\n",
       "      <td>23480.12</td>\n",
       "      <td>2.163869e+08</td>\n",
       "      <td>9220.6875</td>\n",
       "    </tr>\n",
       "    <tr>\n",
       "      <th>2020-07-16</th>\n",
       "      <td>9133.23</td>\n",
       "      <td>9216.53</td>\n",
       "      <td>9029.17</td>\n",
       "      <td>9193.22</td>\n",
       "      <td>27882.77</td>\n",
       "      <td>2.542556e+08</td>\n",
       "      <td>9143.0375</td>\n",
       "    </tr>\n",
       "    <tr>\n",
       "      <th>2020-07-17</th>\n",
       "      <td>9156.79</td>\n",
       "      <td>9183.08</td>\n",
       "      <td>9080.61</td>\n",
       "      <td>9133.23</td>\n",
       "      <td>20542.60</td>\n",
       "      <td>1.877101e+08</td>\n",
       "      <td>9138.4275</td>\n",
       "    </tr>\n",
       "    <tr>\n",
       "      <th>2020-07-18</th>\n",
       "      <td>9177.22</td>\n",
       "      <td>9205.94</td>\n",
       "      <td>9125.92</td>\n",
       "      <td>9156.79</td>\n",
       "      <td>11952.82</td>\n",
       "      <td>1.095633e+08</td>\n",
       "      <td>9166.4675</td>\n",
       "    </tr>\n",
       "    <tr>\n",
       "      <th>2020-07-19</th>\n",
       "      <td>9216.02</td>\n",
       "      <td>9238.30</td>\n",
       "      <td>9113.41</td>\n",
       "      <td>9177.22</td>\n",
       "      <td>12797.83</td>\n",
       "      <td>1.172980e+08</td>\n",
       "      <td>9186.2375</td>\n",
       "    </tr>\n",
       "    <tr>\n",
       "      <th>2020-07-20</th>\n",
       "      <td>9164.42</td>\n",
       "      <td>9224.76</td>\n",
       "      <td>9136.90</td>\n",
       "      <td>9216.02</td>\n",
       "      <td>18729.90</td>\n",
       "      <td>1.718770e+08</td>\n",
       "      <td>9185.5250</td>\n",
       "    </tr>\n",
       "    <tr>\n",
       "      <th>2020-07-21</th>\n",
       "      <td>9175.09</td>\n",
       "      <td>9175.72</td>\n",
       "      <td>9162.25</td>\n",
       "      <td>9164.42</td>\n",
       "      <td>249.97</td>\n",
       "      <td>2.292154e+06</td>\n",
       "      <td>9169.3700</td>\n",
       "    </tr>\n",
       "  </tbody>\n",
       "</table>\n",
       "</div>"
      ],
      "text/plain": [
       "              close     high      low     open  volumefrom      volumeto  \\\n",
       "time                                                                       \n",
       "2020-07-12  9300.95  9339.99  9169.13  9237.13    16385.50  1.516494e+08   \n",
       "2020-07-13  9237.89  9336.42  9201.18  9300.95    25872.33  2.400818e+08   \n",
       "2020-07-14  9256.07  9279.57  9109.70  9237.89    25865.27  2.383085e+08   \n",
       "2020-07-15  9193.22  9272.57  9160.89  9256.07    23480.12  2.163869e+08   \n",
       "2020-07-16  9133.23  9216.53  9029.17  9193.22    27882.77  2.542556e+08   \n",
       "2020-07-17  9156.79  9183.08  9080.61  9133.23    20542.60  1.877101e+08   \n",
       "2020-07-18  9177.22  9205.94  9125.92  9156.79    11952.82  1.095633e+08   \n",
       "2020-07-19  9216.02  9238.30  9113.41  9177.22    12797.83  1.172980e+08   \n",
       "2020-07-20  9164.42  9224.76  9136.90  9216.02    18729.90  1.718770e+08   \n",
       "2020-07-21  9175.09  9175.72  9162.25  9164.42      249.97  2.292154e+06   \n",
       "\n",
       "            weighted_price  \n",
       "time                        \n",
       "2020-07-12       9261.8000  \n",
       "2020-07-13       9269.1100  \n",
       "2020-07-14       9220.8075  \n",
       "2020-07-15       9220.6875  \n",
       "2020-07-16       9143.0375  \n",
       "2020-07-17       9138.4275  \n",
       "2020-07-18       9166.4675  \n",
       "2020-07-19       9186.2375  \n",
       "2020-07-20       9185.5250  \n",
       "2020-07-21       9169.3700  "
      ]
     },
     "execution_count": 6,
     "metadata": {},
     "output_type": "execute_result"
    }
   ],
   "source": [
    "hist.tail(10)"
   ]
  },
  {
   "cell_type": "code",
   "execution_count": 7,
   "metadata": {
    "colab": {},
    "colab_type": "code",
    "id": "0Ykh8CHfpskJ"
   },
   "outputs": [],
   "source": [
    "def train_test_split(df, test_size=0.1):\n",
    "    split_row = len(df) - int(test_size * len(df))\n",
    "    train_data = df.iloc[:split_row]\n",
    "    test_data = df.iloc[split_row:]\n",
    "    return train_data, test_data"
   ]
  },
  {
   "cell_type": "code",
   "execution_count": 8,
   "metadata": {
    "colab": {},
    "colab_type": "code",
    "id": "PWKGJlxIpskM"
   },
   "outputs": [],
   "source": [
    "train, test = train_test_split(hist, test_size=0.2)"
   ]
  },
  {
   "cell_type": "code",
   "execution_count": 9,
   "metadata": {
    "colab": {},
    "colab_type": "code",
    "id": "jqfrJbQhpskP"
   },
   "outputs": [],
   "source": [
    "def line_plot(line1, line2, label1=None, label2=None, title='', lw=2):\n",
    "    fig, ax = plt.subplots(1, figsize=(13, 7))\n",
    "    ax.plot(line1, label=label1, linewidth=lw)\n",
    "    ax.plot(line2, label=label2, linewidth=lw)\n",
    "    ax.set_ylabel('price [USD]', fontsize=14)\n",
    "    ax.set_title(title, fontsize=16)\n",
    "    ax.legend(loc='best', fontsize=16);"
   ]
  },
  {
   "cell_type": "code",
   "execution_count": 10,
   "metadata": {
    "colab": {
     "base_uri": "https://localhost:8080/",
     "height": 552
    },
    "colab_type": "code",
    "id": "9F_YTCCxpskS",
    "outputId": "c6a3ff55-40fa-46dd-ae42-0a67b5b5e9f8"
   },
   "outputs": [
    {
     "data": {
      "image/png": "[encoded data removed]",
      "text/plain": [
       "<Figure size 936x504 with 1 Axes>"
      ]
     },
     "metadata": {
      "needs_background": "light"
     },
     "output_type": "display_data"
    }
   ],
   "source": [
    "line_plot(train[target_col], test[target_col], 'training', 'test', title='')"
   ]
  },
  {
   "cell_type": "code",
   "execution_count": 11,
   "metadata": {
    "colab": {},
    "colab_type": "code",
    "id": "iy-je3_bpskb"
   },
   "outputs": [],
   "source": [
    "def normalise_zero_base(df):\n",
    "    return df / df.iloc[0] - 1\n",
    "\n",
    "def normalise_min_max(df):\n",
    "    return (df - df.min()) / (data.max() - df.min())"
   ]
  },
  {
   "cell_type": "code",
   "execution_count": 12,
   "metadata": {
    "colab": {},
    "colab_type": "code",
    "id": "zteL5amIpskh"
   },
   "outputs": [],
   "source": [
    "def extract_window_data(df, window_len=5, zero_base=True):\n",
    "    window_data = []\n",
    "    for idx in range(len(df) - window_len):\n",
    "        tmp = df[idx: (idx + window_len)].copy()\n",
    "        if zero_base:\n",
    "            tmp = normalise_zero_base(tmp)\n",
    "        window_data.append(tmp.values)\n",
    "    return np.array(window_data)"
   ]
  },
  {
   "cell_type": "code",
   "execution_count": 13,
   "metadata": {
    "colab": {},
    "colab_type": "code",
    "id": "aTBbhnezpskk"
   },
   "outputs": [],
   "source": [
    "def prepare_data(df, target_col, window_len=5, zero_base=True, test_size=0.2):\n",
    "    train_data, test_data = train_test_split(df, test_size=test_size)\n",
    "    X_train = extract_window_data(train_data, window_len, zero_base)\n",
    "    X_test = extract_window_data(test_data, window_len, zero_base)\n",
    "    y_train = train_data[target_col][window_len:].values\n",
    "    y_test = test_data[target_col][window_len:].values\n",
    "    if zero_base:\n",
    "        y_train = y_train / train_data[target_col][:-window_len].values - 1\n",
    "        y_test = y_test / test_data[target_col][:-window_len].values - 1\n",
    "\n",
    "    return train_data, test_data, X_train, X_test, y_train, y_test"
   ]
  },
  {
   "cell_type": "code",
   "execution_count": 26,
   "metadata": {
    "colab": {},
    "colab_type": "code",
    "id": "VjWtS2qJpskn"
   },
   "outputs": [],
   "source": [
    "def build_model(input_data, output_size, neurons=100, activ_func='linear',\n",
    "                     dropout=0.2, loss='mse', optimizer='adam'):\n",
    "    model = Sequential()\n",
    "    model.add(LSTM(neurons, input_shape=(input_data.shape[1], input_data.shape[2])))\n",
    "    model.add(Dropout(dropout))\n",
    "    model.add(Dense(units=output_size))\n",
    "    model.add(Activation(activ_func))\n",
    "\n",
    "    model.compile(loss=loss, optimizer=optimizer)\n",
    "    return model"
   ]
  },
  {
   "cell_type": "code",
   "execution_count": 27,
   "metadata": {
    "colab": {},
    "colab_type": "code",
    "id": "aADcao3Qpskq"
   },
   "outputs": [],
   "source": [
    "np.random.seed(42)\n",
    "window_len = 5\n",
    "test_size = 0.2\n",
    "zero_base = True\n",
    "neuron = 100\n",
    "epochs = 100\n",
    "batch_size = 32\n",
    "loss = 'mse'\n",
    "dropout = 0.2\n",
    "optimizer = 'adam'"
   ]
  },
  {
   "cell_type": "code",
   "execution_count": 28,
   "metadata": {
    "colab": {},
    "colab_type": "code",
    "id": "rAw5VBtwpskt"
   },
   "outputs": [],
   "source": [
    "train, test, X_train, X_test, y_train, y_test = prepare_data(hist, target_col, window_len=window_len, zero_base=zero_base, test_size=test_size)"
   ]
  },
  {
   "cell_type": "code",
   "execution_count": 29,
   "metadata": {
    "colab": {
     "base_uri": "https://localhost:8080/",
     "height": 1000
    },
    "colab_type": "code",
    "id": "E5T9OAwQpskw",
    "outputId": "c46fb066-d0af-42e1-876c-acef59787c33"
   },
   "outputs": [
    {
     "name": "stdout",
     "output_type": "stream",
     "text": [
      "Epoch 1/100\n",
      "38/38 [==============================] - 0s 3ms/step - loss: 0.0050\n",
      "Epoch 2/100\n",
      "38/38 [==============================] - 0s 2ms/step - loss: 0.0027\n",
      "Epoch 3/100\n",
      "38/38 [==============================] - 0s 2ms/step - loss: 0.0021\n",
      "Epoch 4/100\n",
      "38/38 [==============================] - 0s 2ms/step - loss: 0.0020\n",
      "Epoch 5/100\n",
      "38/38 [==============================] - 0s 2ms/step - loss: 0.0017\n",
      "Epoch 6/100\n",
      "38/38 [==============================] - 0s 2ms/step - loss: 0.0016\n",
      "Epoch 7/100\n",
      "38/38 [==============================] - 0s 2ms/step - loss: 0.0014\n",
      "Epoch 8/100\n",
      "38/38 [==============================] - 0s 2ms/step - loss: 0.0012\n",
      "Epoch 9/100\n",
      "38/38 [==============================] - 0s 2ms/step - loss: 0.0012\n",
      "Epoch 10/100\n",
      "38/38 [==============================] - 0s 2ms/step - loss: 0.0011\n",
      "Epoch 11/100\n",
      "38/38 [==============================] - 0s 2ms/step - loss: 9.8539e-04\n",
      "Epoch 12/100\n",
      "38/38 [==============================] - 0s 2ms/step - loss: 9.4427e-04\n",
      "Epoch 13/100\n",
      "38/38 [==============================] - 0s 2ms/step - loss: 9.1055e-04\n",
      "Epoch 14/100\n",
      "38/38 [==============================] - 0s 2ms/step - loss: 8.9916e-04\n",
      "Epoch 15/100\n",
      "38/38 [==============================] - 0s 2ms/step - loss: 8.7913e-04\n",
      "Epoch 16/100\n",
      "38/38 [==============================] - 0s 2ms/step - loss: 8.0772e-04\n",
      "Epoch 17/100\n",
      "38/38 [==============================] - 0s 2ms/step - loss: 7.8917e-04\n",
      "Epoch 18/100\n",
      "38/38 [==============================] - 0s 2ms/step - loss: 7.3717e-04\n",
      "Epoch 19/100\n",
      "38/38 [==============================] - 0s 2ms/step - loss: 7.2883e-04\n",
      "Epoch 20/100\n",
      "38/38 [==============================] - 0s 2ms/step - loss: 7.2132e-04\n",
      "Epoch 21/100\n",
      "38/38 [==============================] - 0s 2ms/step - loss: 7.1154e-04\n",
      "Epoch 22/100\n",
      "38/38 [==============================] - 0s 2ms/step - loss: 7.4342e-04\n",
      "Epoch 23/100\n",
      "38/38 [==============================] - 0s 2ms/step - loss: 6.8747e-04\n",
      "Epoch 24/100\n",
      "38/38 [==============================] - 0s 2ms/step - loss: 6.5545e-04\n",
      "Epoch 25/100\n",
      "38/38 [==============================] - 0s 2ms/step - loss: 6.8371e-04\n",
      "Epoch 26/100\n",
      "38/38 [==============================] - 0s 2ms/step - loss: 6.9301e-04\n",
      "Epoch 27/100\n",
      "38/38 [==============================] - 0s 2ms/step - loss: 7.0717e-04\n",
      "Epoch 28/100\n",
      "38/38 [==============================] - 0s 2ms/step - loss: 6.6864e-04\n",
      "Epoch 29/100\n",
      "38/38 [==============================] - 0s 2ms/step - loss: 6.9518e-04\n",
      "Epoch 30/100\n",
      "38/38 [==============================] - 0s 2ms/step - loss: 6.6678e-04\n",
      "Epoch 31/100\n",
      "38/38 [==============================] - 0s 2ms/step - loss: 6.7258e-04\n",
      "Epoch 32/100\n",
      "38/38 [==============================] - 0s 2ms/step - loss: 6.7773e-04\n",
      "Epoch 33/100\n",
      "38/38 [==============================] - 0s 2ms/step - loss: 6.8405e-04\n",
      "Epoch 34/100\n",
      "38/38 [==============================] - 0s 2ms/step - loss: 6.7059e-04\n",
      "Epoch 35/100\n",
      "38/38 [==============================] - 0s 2ms/step - loss: 6.5839e-04\n",
      "Epoch 36/100\n",
      "38/38 [==============================] - 0s 2ms/step - loss: 6.5706e-04\n",
      "Epoch 37/100\n",
      "38/38 [==============================] - 0s 2ms/step - loss: 6.4644e-04\n",
      "Epoch 38/100\n",
      "38/38 [==============================] - 0s 2ms/step - loss: 6.4573e-04\n",
      "Epoch 39/100\n",
      "38/38 [==============================] - 0s 2ms/step - loss: 6.4493e-04\n",
      "Epoch 40/100\n",
      "38/38 [==============================] - 0s 2ms/step - loss: 6.5116e-04\n",
      "Epoch 41/100\n",
      "38/38 [==============================] - 0s 2ms/step - loss: 6.8609e-04\n",
      "Epoch 42/100\n",
      "38/38 [==============================] - 0s 2ms/step - loss: 6.4772e-04\n",
      "Epoch 43/100\n",
      "38/38 [==============================] - 0s 2ms/step - loss: 6.4070e-04\n",
      "Epoch 44/100\n",
      "38/38 [==============================] - 0s 2ms/step - loss: 6.4726e-04\n",
      "Epoch 45/100\n",
      "38/38 [==============================] - 0s 2ms/step - loss: 6.3429e-04\n",
      "Epoch 46/100\n",
      "38/38 [==============================] - 0s 2ms/step - loss: 6.5241e-04\n",
      "Epoch 47/100\n",
      "38/38 [==============================] - 0s 2ms/step - loss: 6.2633e-04\n",
      "Epoch 48/100\n",
      "38/38 [==============================] - 0s 2ms/step - loss: 6.2452e-04\n",
      "Epoch 49/100\n",
      "38/38 [==============================] - 0s 2ms/step - loss: 6.5061e-04\n",
      "Epoch 50/100\n",
      "38/38 [==============================] - 0s 2ms/step - loss: 6.2677e-04\n",
      "Epoch 51/100\n",
      "38/38 [==============================] - 0s 2ms/step - loss: 6.2349e-04\n",
      "Epoch 52/100\n",
      "38/38 [==============================] - 0s 2ms/step - loss: 6.4595e-04\n",
      "Epoch 53/100\n",
      "38/38 [==============================] - 0s 2ms/step - loss: 6.3336e-04\n",
      "Epoch 54/100\n",
      "38/38 [==============================] - 0s 2ms/step - loss: 6.3960e-04\n",
      "Epoch 55/100\n",
      "38/38 [==============================] - 0s 2ms/step - loss: 6.5007e-04\n",
      "Epoch 56/100\n",
      "38/38 [==============================] - 0s 2ms/step - loss: 6.1615e-04\n",
      "Epoch 57/100\n",
      "38/38 [==============================] - 0s 2ms/step - loss: 6.1815e-04\n",
      "Epoch 58/100\n",
      "38/38 [==============================] - 0s 2ms/step - loss: 6.2417e-04\n",
      "Epoch 59/100\n",
      "38/38 [==============================] - 0s 2ms/step - loss: 6.4236e-04\n",
      "Epoch 60/100\n",
      "38/38 [==============================] - 0s 3ms/step - loss: 6.2134e-04\n",
      "Epoch 61/100\n",
      "38/38 [==============================] - 0s 3ms/step - loss: 6.4867e-04\n",
      "Epoch 62/100\n",
      "38/38 [==============================] - 0s 2ms/step - loss: 6.2817e-04\n",
      "Epoch 63/100\n",
      "38/38 [==============================] - 0s 2ms/step - loss: 6.1584e-04\n",
      "Epoch 64/100\n",
      "38/38 [==============================] - 0s 2ms/step - loss: 6.1895e-04\n",
      "Epoch 65/100\n",
      "38/38 [==============================] - 0s 2ms/step - loss: 6.2962e-04\n",
      "Epoch 66/100\n",
      "38/38 [==============================] - 0s 2ms/step - loss: 6.3053e-04\n",
      "Epoch 67/100\n",
      "38/38 [==============================] - 0s 2ms/step - loss: 6.0561e-04\n",
      "Epoch 68/100\n",
      "38/38 [==============================] - 0s 2ms/step - loss: 6.2596e-04\n",
      "Epoch 69/100\n",
      "38/38 [==============================] - 0s 2ms/step - loss: 6.2831e-04\n",
      "Epoch 70/100\n",
      "38/38 [==============================] - 0s 2ms/step - loss: 6.1974e-04\n",
      "Epoch 71/100\n",
      "38/38 [==============================] - 0s 2ms/step - loss: 6.0958e-04\n",
      "Epoch 72/100\n",
      "38/38 [==============================] - 0s 2ms/step - loss: 6.2951e-04\n",
      "Epoch 73/100\n",
      "38/38 [==============================] - 0s 2ms/step - loss: 6.0619e-04\n",
      "Epoch 74/100\n",
      "38/38 [==============================] - 0s 2ms/step - loss: 6.0427e-04\n",
      "Epoch 75/100\n",
      "38/38 [==============================] - 0s 2ms/step - loss: 6.3919e-04\n",
      "Epoch 76/100\n",
      "38/38 [==============================] - 0s 2ms/step - loss: 6.3609e-04\n",
      "Epoch 77/100\n",
      "38/38 [==============================] - 0s 2ms/step - loss: 6.2384e-04\n",
      "Epoch 78/100\n",
      "38/38 [==============================] - 0s 2ms/step - loss: 6.3923e-04\n",
      "Epoch 79/100\n",
      "38/38 [==============================] - 0s 2ms/step - loss: 6.2324e-04\n",
      "Epoch 80/100\n",
      "38/38 [==============================] - 0s 2ms/step - loss: 6.0012e-04\n",
      "Epoch 81/100\n",
      "38/38 [==============================] - 0s 2ms/step - loss: 6.2248e-04\n",
      "Epoch 82/100\n",
      "38/38 [==============================] - 0s 2ms/step - loss: 6.1656e-04\n",
      "Epoch 83/100\n",
      "38/38 [==============================] - 0s 2ms/step - loss: 6.1601e-04\n",
      "Epoch 84/100\n",
      "38/38 [==============================] - 0s 2ms/step - loss: 6.6312e-04\n",
      "Epoch 85/100\n",
      "38/38 [==============================] - 0s 2ms/step - loss: 6.3086e-04\n",
      "Epoch 86/100\n",
      "38/38 [==============================] - 0s 2ms/step - loss: 6.0715e-04\n",
      "Epoch 87/100\n",
      "38/38 [==============================] - 0s 2ms/step - loss: 6.2433e-04\n",
      "Epoch 88/100\n",
      "38/38 [==============================] - 0s 2ms/step - loss: 6.1339e-04\n",
      "Epoch 89/100\n",
      "38/38 [==============================] - 0s 2ms/step - loss: 5.8926e-04\n",
      "Epoch 90/100\n",
      "38/38 [==============================] - 0s 2ms/step - loss: 6.1165e-04\n",
      "Epoch 91/100\n",
      "38/38 [==============================] - 0s 2ms/step - loss: 6.3180e-04\n",
      "Epoch 92/100\n",
      "38/38 [==============================] - 0s 2ms/step - loss: 6.2082e-04\n",
      "Epoch 93/100\n",
      "38/38 [==============================] - 0s 2ms/step - loss: 5.8405e-04\n",
      "Epoch 94/100\n",
      "38/38 [==============================] - 0s 2ms/step - loss: 6.0633e-04\n",
      "Epoch 95/100\n",
      "38/38 [==============================] - 0s 2ms/step - loss: 5.9367e-04\n",
      "Epoch 96/100\n",
      "38/38 [==============================] - 0s 2ms/step - loss: 6.0404e-04\n",
      "Epoch 97/100\n",
      "38/38 [==============================] - 0s 2ms/step - loss: 6.1242e-04\n",
      "Epoch 98/100\n",
      "38/38 [==============================] - 0s 2ms/step - loss: 6.1773e-04\n",
      "Epoch 99/100\n",
      "38/38 [==============================] - 0s 2ms/step - loss: 6.1081e-04\n",
      "Epoch 100/100\n",
      "38/38 [==============================] - 0s 2ms/step - loss: 6.1420e-04\n"
     ]
    }
   ],
   "source": [
    "model = build_model(\n",
    "    X_train, output_size=1, neurons=neuron, dropout=dropout, loss=loss,\n",
    "    optimizer=optimizer)\n",
    "history = model.fit(\n",
    "    X_train, y_train, epochs=epochs, batch_size=batch_size, verbose=1, shuffle=True)"
   ]
  },
  {
   "cell_type": "code",
   "execution_count": 30,
   "metadata": {
    "colab": {
     "base_uri": "https://localhost:8080/",
     "height": 35
    },
    "colab_type": "code",
    "id": "mS6SPIGNpskz",
    "outputId": "28bebbc7-9e96-4300-f237-70dab2658260"
   },
   "outputs": [
    {
     "name": "stdout",
     "output_type": "stream",
     "text": [
      "MAE: 0.014752\n",
      "R2: 0.912259\n",
      "Test MSE: 0.000535\n"
     ]
    }
   ],
   "source": [
    "targets = test[target_col][window_len:]\n",
    "preds = model.predict(X_test).squeeze()\n",
    "mae = mean_absolute_error(y_test,preds)\n",
    "error = mean_squared_error(y_test, preds)\n",
    "r2 = r2_score(y_test, preds)\n",
    "print('MAE: %.6f' % mae)\n",
    "print('R2: %.6f' % r2)\n",
    "print('Test MSE: %.6f' % error)"
   ]
  },
  {
   "cell_type": "code",
   "execution_count": 31,
   "metadata": {
    "colab": {
     "base_uri": "https://localhost:8080/",
     "height": 428
    },
    "colab_type": "code",
    "id": "4jU0wERepsk2",
    "outputId": "799dc055-01f8-4128-b497-c22a4bbc6c09"
   },
   "outputs": [
    {
     "data": {
      "image/png": "[encoded data removed]",
      "text/plain": [
       "<Figure size 936x504 with 1 Axes>"
      ]
     },
     "metadata": {
      "needs_background": "light"
     },
     "output_type": "display_data"
    }
   ],
   "source": [
    "preds = test[target_col].values[:-window_len] * (preds + 1)\n",
    "preds = pd.Series(index=targets.index, data=preds)\n",
    "line_plot(targets, preds, 'actual', 'prediction', lw=3)"
   ]
  }
 ],
 "metadata": {
  "colab": {
   "name": "price_prediction.ipynb",
   "provenance": []
  },
  "kernelspec": {
   "display_name": "Python 3",
   "language": "python",
   "name": "python3"
  },
  "language_info": {
   "codemirror_mode": {
    "name": "ipython",
    "version": 3
   },
   "file_extension": ".py",
   "mimetype": "text/x-python",
   "name": "python",
   "nbconvert_exporter": "python",
   "pygments_lexer": "ipython3",
   "version": "3.7.6"
  }
 },
 "nbformat": 4,
 "nbformat_minor": 4
}
